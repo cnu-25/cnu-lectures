{
 "cells": [
  {
   "cell_type": "markdown",
   "id": "26b37c3c-7488-405d-a1d1-b995f725a48b",
   "metadata": {
    "editable": true,
    "slideshow": {
     "slide_type": ""
    },
    "tags": []
   },
   "source": [
    "# Week 6 - Numerical integration"
   ]
  },
  {
   "cell_type": "markdown",
   "id": "727bac1c-978b-481f-9599-de08c0b78889",
   "metadata": {
    "editable": true,
    "slideshow": {
     "slide_type": ""
    },
    "tags": []
   },
   "source": [
    "Given three distinct points $(x_0, y_0)$, $(x_1, y_1)$, $(x_2, y_2)$, how do we find the degree two polynomial which passes through them?\n",
    "\n",
    "One way to view this: how do we find $a$, $b$, and $c$ such that\n",
    "\n",
    "$$p(x_i) = a x_i^2 + b x_i + c = y_i$$\n",
    "\n",
    "for each $i \\in \\left\\{ 0, 1, 2 \\right\\}$?"
   ]
  },
  {
   "cell_type": "code",
   "execution_count": null,
   "id": "7f0951a4-abfb-4d2d-9731-205763317fa0",
   "metadata": {
    "editable": true,
    "slideshow": {
     "slide_type": ""
    },
    "tags": []
   },
   "outputs": [],
   "source": [
    "%matplotlib inline\n",
    "\n",
    "import matplotlib.pyplot as plt\n",
    "import numpy as np\n",
    "\n",
    "x = np.array([0, 1, 2], dtype=float)\n",
    "y = np.array([0, 2, 0], dtype=float)\n",
    "\n",
    "A = np.array([x ** 2, x, np.ones_like(x)], dtype=float).T\n",
    "b = y\n",
    "c = np.linalg.solve(A, b)\n",
    "# c = np.polyfit(x, y, 2)\n",
    "\n",
    "print(f\"{c=}\")\n",
    "\n",
    "x_plot = np.linspace(-0.5, 2.5, 1000)\n",
    "y_plot = np.zeros_like(x_plot)\n",
    "for i, c_i in enumerate(reversed(c)):\n",
    "    y_plot += c_i * x_plot ** i\n",
    "# y_plot = np.polyval(c, x_plot)\n",
    "\n",
    "fig, ax = plt.subplots(1)\n",
    "ax.plot(x, y, \"kx\")\n",
    "ax.plot(x_plot, y_plot, \"r-\")\n",
    "ax.axhline(0, color=\"#888888\")\n",
    "ax.axvline(0, color=\"#888888\")\n",
    "ax.set_xlim(x_plot[0], x_plot[-1])\n",
    "ax.set_xlabel(\"$x$\", fontsize=\"x-large\")\n",
    "ax.set_ylabel(\"$p(x)$\", fontsize=\"x-large\")"
   ]
  },
  {
   "cell_type": "markdown",
   "id": "aab6101c-9734-401f-a703-b460061d869d",
   "metadata": {
    "editable": true,
    "slideshow": {
     "slide_type": ""
    },
    "tags": []
   },
   "source": [
    "# Numerical quadrature\n",
    "\n",
    "How do we approximate the integral of a general 1D function, $f(x)$,\n",
    "\n",
    "$$I \\approx \\int_a^b f(x) dx.$$\n",
    "\n",
    "One approach:\n",
    "\n",
    "1. Divide the interval $[a, b]$ into a number of pieces.\n",
    "2. Approximate the integral within each piece in some way.\n",
    "3. Add up the result.\n",
    "\n",
    "Here we focus on 2., and consider the *reference interval* $x \\in [-1, 1]$.\n",
    "\n",
    "How do we compute\n",
    "\n",
    "$$I \\approx \\int_{-1}^1 f(x) dx?$$"
   ]
  },
  {
   "cell_type": "code",
   "execution_count": null,
   "id": "82fd1b55-8130-4531-9c60-c36b21693768",
   "metadata": {
    "editable": true,
    "slideshow": {
     "slide_type": ""
    },
    "tags": []
   },
   "outputs": [],
   "source": [
    "%matplotlib inline\n",
    "\n",
    "import matplotlib.pyplot as plt\n",
    "import numpy as np\n",
    "\n",
    "\n",
    "def f(x):\n",
    "    return np.cos(np.pi * x / 2)\n",
    "\n",
    "\n",
    "integral_exact = 4 / np.pi\n",
    "\n",
    "x_plot = np.linspace(-1, 1, 1000)\n",
    "y_plot = f(x_plot)\n",
    "\n",
    "fig, ax = plt.subplots(1)\n",
    "ax.plot(x_plot, y_plot, \"r-\")\n",
    "ax.axhline(0, color=\"#888888\")\n",
    "ax.axvline(0, color=\"#888888\")\n",
    "ax.set_xlim(x_plot[0], x_plot[-1])\n",
    "ax.set_xlabel(\"$x$\", fontsize=\"x-large\")\n",
    "ax.set_ylabel(\"$f(x)$\", fontsize=\"x-large\")"
   ]
  },
  {
   "cell_type": "markdown",
   "id": "eb79e6ec-70f3-454d-bf92-b97790e507f6",
   "metadata": {
    "editable": true,
    "slideshow": {
     "slide_type": ""
    },
    "tags": []
   },
   "source": [
    "### Midpoint rule\n",
    "\n",
    "$$I \\approx 2 f(0).$$"
   ]
  },
  {
   "cell_type": "code",
   "execution_count": null,
   "id": "830e2e24-e4c8-4ca6-ac61-909a45302e83",
   "metadata": {
    "editable": true,
    "slideshow": {
     "slide_type": ""
    },
    "tags": []
   },
   "outputs": [],
   "source": [
    "integral_approx = 2 * f(0)\n",
    "\n",
    "print(f\"{integral_exact=}\")\n",
    "print(f\"{integral_approx=}\")\n",
    "print(f\"{abs(integral_exact - integral_approx)=}\")"
   ]
  },
  {
   "cell_type": "markdown",
   "id": "9f68ea76-7dac-4ade-a19c-7f76e4a3a181",
   "metadata": {},
   "source": [
    "### Trapezoidal rule\n",
    "\n",
    "$$I \\approx f(-1) + f(1).$$"
   ]
  },
  {
   "cell_type": "code",
   "execution_count": null,
   "id": "be80ce66-e6d6-4643-82b0-e303742ae596",
   "metadata": {},
   "outputs": [],
   "source": [
    "integral_approx = f(-1) + f(1)\n",
    "\n",
    "print(f\"{integral_exact=}\")\n",
    "print(f\"{integral_approx=}\")\n",
    "print(f\"{abs(integral_exact - integral_approx)=}\")"
   ]
  },
  {
   "cell_type": "markdown",
   "id": "94702f8b-8036-4f2e-98a2-42639f58572a",
   "metadata": {},
   "source": [
    "### Simpson's rule\n",
    "\n",
    "$$I \\approx \\frac{1}{3} [ f(-1) + 4 f(0) + f(1) ].$$"
   ]
  },
  {
   "cell_type": "code",
   "execution_count": null,
   "id": "34f2124b-1321-478d-a539-8398539c5039",
   "metadata": {},
   "outputs": [],
   "source": [
    "integral_approx = (1/3) * (f(-1) + 4 * f(0) + f(1))\n",
    "\n",
    "print(f\"{integral_exact=}\")\n",
    "print(f\"{integral_approx=}\")\n",
    "print(f\"{abs(integral_exact - integral_approx)=}\")"
   ]
  },
  {
   "cell_type": "markdown",
   "id": "f6cd225a-731d-4a84-b571-f1ba1c370dc1",
   "metadata": {
    "editable": true,
    "slideshow": {
     "slide_type": ""
    },
    "tags": []
   },
   "source": [
    "### General quadrature rule\n",
    "\n",
    "A general $N$-point *quadrature rule* on the interval $x \\in [-1, 1]$ takes the form\n",
    "\n",
    "$$I \\approx \\sum_{i = 0}^{N - 1} w_i f(x_i),$$\n",
    "\n",
    "where the $x_i$ are the *quadrature points* and the $w_i$ are the *quadrature weights*.\n",
    "\n",
    "### Degree of precision\n",
    "\n",
    "A quadrature rule has *degree of precision* $Q$ if\n",
    "\n",
    "- It integrates all polynomials of maximal degree $Q$ exactly (except for roundoff).\n",
    "- There exists a polynomial of degree $(Q + 1)$ which it does *not* integrate exactly.\n",
    "\n",
    "Simplest way to test:\n",
    "\n",
    "- For degree of precision at least zero we need the weights to sum to $2$ (why?).\n",
    "- For higher degree of precision, check $x^j$. The smallest integer value of $j$ where the rule is not exact tells you that the degree of precision is $(j - 1)$ (why?).\n",
    "\n",
    "Question: How do you make sure that the degree of precision is always *at least* $Q$?"
   ]
  }
 ],
 "metadata": {
  "kernelspec": {
   "display_name": "Python 3 (ipykernel)",
   "language": "python",
   "name": "python3"
  },
  "language_info": {
   "codemirror_mode": {
    "name": "ipython",
    "version": 3
   },
   "file_extension": ".py",
   "mimetype": "text/x-python",
   "name": "python",
   "nbconvert_exporter": "python",
   "pygments_lexer": "ipython3",
   "version": "3.12.3"
  }
 },
 "nbformat": 4,
 "nbformat_minor": 5
}
