{
 "cells": [
  {
   "cell_type": "markdown",
   "id": "26b37c3c-7488-405d-a1d1-b995f725a48b",
   "metadata": {},
   "source": [
    "# Week 5 - Plotting"
   ]
  },
  {
   "cell_type": "markdown",
   "id": "727bac1c-978b-481f-9599-de08c0b78889",
   "metadata": {},
   "source": [
    "  - [matplotlib documentation](https://matplotlib.org/stable/)\n",
    "  - [matplotlib examples](https://matplotlib.org/stable/gallery/index.html)"
   ]
  },
  {
   "cell_type": "code",
   "execution_count": null,
   "id": "7f0951a4-abfb-4d2d-9731-205763317fa0",
   "metadata": {},
   "outputs": [],
   "source": [
    "import numpy as np\n",
    "\n",
    "x = np.linspace(-np.pi, np.pi, 1000, dtype=float)\n",
    "y = np.cos(x) + 0.2 * np.cos(10 * x + np.pi / 4)"
   ]
  },
  {
   "cell_type": "code",
   "execution_count": null,
   "id": "128c9e94-d958-412c-a5ee-3072d465667c",
   "metadata": {},
   "outputs": [],
   "source": [
    "%matplotlib ipympl\n",
    "\n",
    "import matplotlib.pyplot as plt\n",
    "\n",
    "plt.close(\"all\")\n",
    "\n",
    "fig = plt.figure()\n",
    "ax = fig.subplots(1)\n",
    "ax.plot(x, y, 'k-')\n",
    "ax.set_xlim(x[0], x[-1])\n",
    "ax.set_xlabel('$x$', fontsize='x-large')\n",
    "ax.set_ylabel('$f(x)$', fontsize='x-large')\n",
    "ax.axhline(0, color='#888888', linewidth=1)\n",
    "ax.axvline(0, color='#888888', linewidth=1)"
   ]
  },
  {
   "cell_type": "code",
   "execution_count": null,
   "id": "5f65df1d-d0b0-4f6d-87ee-2206493c4ce2",
   "metadata": {},
   "outputs": [],
   "source": [
    "def f(x, alpha, k, theta):\n",
    "    return alpha * np.sin(k * x + theta)\n",
    "\n",
    "\n",
    "fig, ax = plt.subplots(2, 2, sharex=True, sharey=True)\n",
    "\n",
    "ax[0, 0].plot(x, f(x, 1, 1, 0), 'k-')\n",
    "ax[0, 0].set_xlabel('$x$')\n",
    "ax[0, 0].set_ylabel(r'$\\sin x$')\n",
    "ax[0, 0].set_xlim(x[0], x[-1])\n",
    "\n",
    "ax[0, 1].plot(x, f(x, 1, 1, np.pi / 4), 'k-')\n",
    "ax[0, 1].set_xlabel('$x$')\n",
    "ax[0, 1].set_ylabel(r'$\\sin \\left( x + \\frac{\\pi}{4} \\right)$')\n",
    "ax[0, 1].set_xlim(x[0], x[-1])\n",
    "\n",
    "ax[1, 0].plot(x, f(x, 1, 10, 0), 'k-')\n",
    "ax[1, 0].set_xlabel('$x$')\n",
    "ax[1, 0].set_ylabel(r'$\\sin ( 10 x )$')\n",
    "ax[1, 0].set_xlim(x[0], x[-1])\n",
    "\n",
    "ax[1, 1].plot(x, np.exp(-(x + np.pi)) * f(x, 1, 10, 0), 'k-')\n",
    "ax[1, 1].set_xlabel('$x$')\n",
    "ax[1, 1].set_ylabel(r'$\\exp^{-x + \\pi} \\sin ( 10 x )$')\n",
    "ax[1, 1].set_xlim(x[0], x[-1])"
   ]
  },
  {
   "cell_type": "markdown",
   "id": "aab6101c-9734-401f-a703-b460061d869d",
   "metadata": {},
   "source": [
    "# Worked example: Mandelbrot set\n",
    "\n",
    "  - [Wikipedia: Mandelbrot set](https://en.wikipedia.org/wiki/Mandelbrot_set)\n",
    "\n",
    "For any given complex number $c \\in \\mathbb{C}$ we can define the sequence\n",
    "\n",
    "$$z_0 = 0,$$\n",
    "$$z_{n + 1} = z_n^2 + c \\quad \\text{for} ~ n \\ge 0.$$\n",
    "\n",
    "The Mandelbrot set is the set of complex $c$ such that all elements in the sequence have bounded magnitude, which is equivalent to all elements in the sequence having mangitude less than or equal to $2$,\n",
    "\n",
    "$$M= \\left\\{ c \\in \\mathbb{C} : | z_n | \\le 2 \\quad \\forall n \\right\\}.$$"
   ]
  },
  {
   "cell_type": "code",
   "execution_count": null,
   "id": "82fd1b55-8130-4531-9c60-c36b21693768",
   "metadata": {},
   "outputs": [],
   "source": [
    "%matplotlib ipympl\n",
    "\n",
    "import matplotlib.pyplot as plt\n",
    "import numpy as np\n",
    "\n",
    "plt.close(\"all\")\n",
    "\n",
    "\n",
    "def escape_iterations(c, max_its):\n",
    "    z = 0\n",
    "    for n in range(max_its):\n",
    "        if abs(z) > 2:\n",
    "            return n\n",
    "        z = z ** 2 + c\n",
    "    return max_its\n",
    "\n",
    "\n",
    "def escape_iterations_vectorized(c, max_its):\n",
    "    N = np.full_like(c, max_its, dtype=int)\n",
    "    z = np.zeros_like(c, dtype=complex)\n",
    "    for n in range(max_its):\n",
    "        N = np.where(np.logical_and(N == max_its, abs(z) > 2),\n",
    "                     n, N)\n",
    "        z = np.where(N == max_its, z ** 2 + c, z)\n",
    "    return N\n",
    "\n",
    "\n",
    "N_x, N_y, max_its = 256, 256, 64\n",
    "c_r_min, c_r_max = -2, 2\n",
    "c_i_min, c_i_max = -2, 2\n",
    "c_r = np.linspace(c_r_min, c_r_max, N_x)\n",
    "c_i = np.linspace(c_i_min, c_i_max, N_y)\n",
    "\n",
    "\n",
    "def plot(c_r, c_i, max_its, fig=None):\n",
    "    C_r, C_i = np.meshgrid(c_r, c_i, indexing='ij')\n",
    "    C = C_r + 1.j * C_i\n",
    "    # N = np.zeros_like(C, dtype=int)\n",
    "    # for i in range(N_x):\n",
    "    #     for j in range(N_y):\n",
    "    #         N[i, j] = escape_iterations(C[i, j], max_its=max_its)\n",
    "    N = escape_iterations_vectorized(C, max_its=max_its)\n",
    "\n",
    "    if fig is None:\n",
    "        fig = plt.figure(figsize=(10, 8))\n",
    "    fig.clf()\n",
    "    ax = fig.subplots(1)\n",
    "    m = ax.pcolormesh(C_r, C_i, np.log10(1 + N),\n",
    "                      cmap='magma_r')\n",
    "    fig.colorbar(m, ax=ax)\n",
    "    ax.set_xlim(c_r.min(), c_r.max())\n",
    "    ax.set_ylim(c_i.min(), c_i.max())\n",
    "    ax.set_aspect(1)\n",
    "\n",
    "    return fig, ax\n",
    "\n",
    "\n",
    "fig, ax = plot(c_r, c_i, max_its)"
   ]
  },
  {
   "cell_type": "markdown",
   "id": "629574bf-9884-406e-ba01-1ab3e4e824b8",
   "metadata": {},
   "source": [
    "Redraw the plot with the current axis limits."
   ]
  },
  {
   "cell_type": "code",
   "execution_count": null,
   "id": "186ebce6-7381-4b18-8643-b81deb780201",
   "metadata": {},
   "outputs": [],
   "source": [
    "c_r_min, c_r_max = ax.get_xlim()\n",
    "c_i_min, c_i_max = ax.get_ylim()\n",
    "c_r = np.linspace(c_r_min, c_r_max, N_x)\n",
    "c_i = np.linspace(c_i_min, c_i_max, N_y)\n",
    "\n",
    "fig, ax = plot(c_r, c_i, max_its, fig=fig)"
   ]
  },
  {
   "cell_type": "markdown",
   "id": "64989215-b0c6-44b1-a683-abac87f63260",
   "metadata": {},
   "source": [
    "Interactive version (beyond the scope of this course!)."
   ]
  },
  {
   "cell_type": "code",
   "execution_count": null,
   "id": "8c32113c-c809-4423-af5a-769da8db905d",
   "metadata": {},
   "outputs": [],
   "source": [
    "def button_release_event_handler(event):\n",
    "    global c_r_min, c_r_max\n",
    "    global c_i_min, c_i_max\n",
    "    global fig, ax\n",
    "\n",
    "    if ax.get_xlim() != (c_r_min, c_r_max) \\\n",
    "            or ax.get_ylim() != (c_i_min, c_i_max):\n",
    "        c_r_min, c_r_max = ax.get_xlim()\n",
    "        c_i_min, c_i_max = ax.get_ylim()\n",
    "        c_r = np.linspace(c_r_min, c_r_max, N_x)\n",
    "        c_i = np.linspace(c_i_min, c_i_max, N_y)\n",
    "\n",
    "        fig, ax = plot(c_r, c_i, max_its, fig=fig)\n",
    "\n",
    "\n",
    "fig.canvas.mpl_connect('button_release_event', button_release_event_handler)"
   ]
  }
 ],
 "metadata": {
  "kernelspec": {
   "display_name": "Python 3 (ipykernel)",
   "language": "python",
   "name": "python3"
  },
  "language_info": {
   "codemirror_mode": {
    "name": "ipython",
    "version": 3
   },
   "file_extension": ".py",
   "mimetype": "text/x-python",
   "name": "python",
   "nbconvert_exporter": "python",
   "pygments_lexer": "ipython3",
   "version": "3.12.3"
  }
 },
 "nbformat": 4,
 "nbformat_minor": 5
}
