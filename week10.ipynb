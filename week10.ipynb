{
 "cells": [
  {
   "cell_type": "markdown",
   "id": "26b37c3c-7488-405d-a1d1-b995f725a48b",
   "metadata": {},
   "source": [
    "# Week 10 - Root finding"
   ]
  },
  {
   "cell_type": "markdown",
   "id": "727bac1c-978b-481f-9599-de08c0b78889",
   "metadata": {},
   "source": [
    "Problem: to find a *root* of a some function $F : \\mathbb{R} \\rightarrow \\mathbb{R}$. i.e. to find some $x_*$ such that\n",
    "\n",
    "$$F(x_*) = 0.$$"
   ]
  },
  {
   "cell_type": "code",
   "execution_count": null,
   "id": "1ee11bea-ba5f-4bc0-b975-f38e929c801b",
   "metadata": {},
   "outputs": [],
   "source": [
    "%matplotlib inline\n",
    "\n",
    "import matplotlib.pyplot as plt\n",
    "import numpy as np\n",
    "\n",
    "\n",
    "def F(x):\n",
    "    return x * np.sin(x) - 0.5 * x\n",
    "\n",
    "\n",
    "x_plot = np.linspace(-np.pi, np.pi, 1000)\n",
    "fig, ax = plt.subplots(1)\n",
    "ax.plot(x_plot, F(x_plot), \"k-\")\n",
    "ax.axhline(0, color=\"#888888\")\n",
    "ax.axvline(0, color=\"#888888\")\n",
    "ax.set_xlim(x_plot[0], x_plot[-1])\n",
    "ax.set_xlabel(\"$x$\", fontsize=\"x-large\")\n",
    "ax.set_ylabel(\"$F(x)$\", fontsize=\"x-large\")"
   ]
  },
  {
   "cell_type": "markdown",
   "id": "2b519fe7-d465-4d57-a71d-b4dedc6a1741",
   "metadata": {},
   "source": [
    "## Fixed-point iteration\n",
    "\n",
    "Fixed-point iteration 1:\n",
    "\n",
    "$$x_{n + 1} = 2 x_n \\sin x_n$$"
   ]
  },
  {
   "cell_type": "code",
   "execution_count": null,
   "id": "9763b581-f786-489e-b3d2-bf422a395d58",
   "metadata": {},
   "outputs": [],
   "source": [
    "eps = 1e-10\n",
    "max_it = 50\n",
    "x = 0.5\n",
    "for it in range(1, max_it + 1):\n",
    "    x = 2 * x * np.sin(x)\n",
    "    print(f\"{it=:4d} {x=:6e} {abs(F(x))=:.6e}\")\n",
    "    if abs(F(x)) < eps:\n",
    "        break"
   ]
  },
  {
   "cell_type": "markdown",
   "id": "4fa38ee7-2d6d-46c3-97b4-ce78e7e60d3d",
   "metadata": {},
   "source": [
    "Fixed-point iteration 2:\n",
    "\n",
    "$$x_{n + 1} = \\frac{x_n}{2 \\sin x_n}$$"
   ]
  },
  {
   "cell_type": "code",
   "execution_count": null,
   "id": "7e4eed94-a625-4c13-a71f-937f95eb06b3",
   "metadata": {},
   "outputs": [],
   "source": [
    "eps = 1e-10\n",
    "max_it = 50\n",
    "x = 0.5\n",
    "for it in range(1, max_it + 1):\n",
    "    x = x / (2 * np.sin(x))\n",
    "    print(f\"{it=:4d} {x=:6e} {abs(F(x))=:.6e}\")\n",
    "    if abs(F(x)) < eps:\n",
    "        break"
   ]
  },
  {
   "cell_type": "markdown",
   "id": "33f789c5-80d3-40b3-ab2b-d46466e488dc",
   "metadata": {},
   "source": [
    "Fixed-point iteration 3:\n",
    "\n",
    "$$x_{n + 1} = \\frac{2 x_n^2 \\cos x_n}{2 \\sin x_n + 2 x_n \\cos x_n - 1}$$"
   ]
  },
  {
   "cell_type": "code",
   "execution_count": null,
   "id": "1e438da0-a744-4a83-a6a1-a1562d60c742",
   "metadata": {},
   "outputs": [],
   "source": [
    "eps = 1e-10\n",
    "max_it = 50\n",
    "x = 0.5\n",
    "for it in range(1, max_it + 1):\n",
    "    x = 2 * x ** 2 * np.cos(x) / (2 * np.sin(x) + 2 * x * np.cos(x) - 1)\n",
    "    print(f\"{it=:4d} {x=:6e} {abs(F(x))=:.6e}\")\n",
    "    if abs(F(x)) < eps:\n",
    "        break\n",
    "\n",
    "x_star = x"
   ]
  },
  {
   "cell_type": "markdown",
   "id": "a706c44e-f399-4d4a-b255-ef0898a72a81",
   "metadata": {},
   "source": [
    "Let's look at $G'(x)$:"
   ]
  },
  {
   "cell_type": "code",
   "execution_count": null,
   "id": "b229e565-ea37-4c9d-87c3-6b912c1cd86a",
   "metadata": {},
   "outputs": [],
   "source": [
    "import sympy as sp\n",
    "\n",
    "x_plot = np.linspace(0.2, 0.8, 1000)\n",
    "fig_0, ax_0 = plt.subplots(1, 3, figsize=(10, 6), sharey=True)\n",
    "fig_1, ax_1 = plt.subplots(1, 3, figsize=(10, 6), sharey=True)\n",
    "\n",
    "x = sp.Symbol(\"x\")\n",
    "G_0 = 2 * x * sp.sin(x)\n",
    "G_1 = x / (2 * sp.sin(x))\n",
    "G_2 = 2 * x ** 2 * sp.cos(x) / (2 * sp.sin(x) + 2 * x * sp.cos(x) - 1)\n",
    "for i, G in enumerate((G_0, G_1, G_2)):\n",
    "    G_fn = sp.lambdify(x, G, modules=[\"numpy\"])\n",
    "    Gp_fn = sp.lambdify(x, G.diff(x), modules=[\"numpy\"])\n",
    "\n",
    "    ax_0[i].plot(x_plot, G_fn(x_plot), \"k-\")\n",
    "    ax_0[i].plot(x_plot, x_plot, \"r-\")\n",
    "    ax_0[i].axvline(x_star, color=\"k\", linestyle=\":\")\n",
    "    ax_0[i].set_xlim(x_plot[0], x_plot[-1])\n",
    "    ax_0[i].set_ylim(x_plot[0], x_plot[-1])\n",
    "    ax_0[i].set_xlabel(\"$x$\", fontsize=\"x-large\")\n",
    "    if i == 0:\n",
    "        ax_0[i].set_ylabel(\"$G(x)$\", fontsize=\"x-large\")\n",
    "\n",
    "    ax_1[i].plot(x_plot, Gp_fn(x_plot), \"k-\")\n",
    "    ax_1[i].axhline(-1, color=\"r\")\n",
    "    ax_1[i].axhline(0, color=\"#888888\")\n",
    "    ax_1[i].axhline(1, color=\"r\")\n",
    "    ax_1[i].axvline(x_star, color=\"k\", linestyle=\":\")\n",
    "    ax_1[i].set_xlim(x_plot[0], x_plot[-1])\n",
    "    ax_1[i].set_ylim(-3, 3)\n",
    "    ax_1[i].set_xlabel(\"$x$\", fontsize=\"x-large\")\n",
    "    if i == 0:\n",
    "        ax_1[i].set_ylabel(\"$G'(x)$\", fontsize=\"x-large\")"
   ]
  },
  {
   "cell_type": "markdown",
   "id": "b37f00dc-9afc-4ef0-a4fc-b26878067195",
   "metadata": {},
   "source": [
    "## Newton's method\n",
    "\n",
    "Problem: to find a *root* of a some function $F : \\mathbb{R} \\rightarrow \\mathbb{R}$. i.e. to find some $x_*$ such that\n",
    "\n",
    "$$F(x_*) = 0.$$\n",
    "\n",
    "Newton's method is a use of fixed-point iteration for root finding. Here we choose an initial guess $x_0$, and then iterate via\n",
    "\n",
    "$$x_{n + 1} = x_n - \\frac{F(x_n)}{F'(x_n)} \\qquad \\text{for} ~ n \\ge 0.$$"
   ]
  },
  {
   "cell_type": "markdown",
   "id": "30e77d76",
   "metadata": {},
   "source": [
    "## Order of convergence\n",
    "\n",
    "If we have a root finding method, seeking a root of $F : \\mathbb{R} \\rightarrow \\mathbb{R}$, where\n",
    "\n",
    "$$\\lim_{n \\rightarrow \\infty} \\frac{| x_{n + 1} - x_* |}{| x_n - x_* |^p} = K,$$\n",
    "\n",
    "for some (finite) constant $K > 0$ and some $p \\ge 1$, then the method *converges at $p$th order*.\n",
    "\n",
    "For sufficiently regular $F$, and given an initial guess $x_0$ sufficiently close to a root at which $F'(x_*) \\ne 0$, Newton's method converges to the root at (at least) *second order*."
   ]
  },
  {
   "cell_type": "markdown",
   "id": "cf81800c-fe11-45ce-92c4-f5c7fbcd92fa",
   "metadata": {},
   "source": [
    "## Newton's method: higher dimensions\n",
    "\n",
    "Problem: to find a *root* of a some function $F : \\mathbb{R}^N \\rightarrow \\mathbb{R}^N$. i.e. to find some $x_*$ such that\n",
    "\n",
    "$$F(x_*) = 0.$$\n",
    "\n",
    "For Newton's method we choose an initial guess $x_0$ and then iterate via\n",
    "\n",
    "$$x_{n + 1} = x_n - J_n^{-1} F(x_n) \\qquad \\text{for} ~ n \\ge 0,$$\n",
    "\n",
    "where $J_n$ is the Jacobian matrix evaluated at $x_n$. i.e. if we write\n",
    "\n",
    "$$F(x_n) = \\left( \\begin{array}{c} F_0(x_{n,0}, \\ldots, x_{n,N - 1} ) \\\\ \\vdots \\\\ F_{N - 1}(x_{n,0}, \\ldots, x_{n,N - 1} ) \\end{array} \\right),$$\n",
    "\n",
    "then the $i,j$th element of $J_n$ is\n",
    "\n",
    "$$J_{n,i,j} = \\frac{\\partial F_i}{\\partial x_{n,j}},$$\n",
    "\n",
    "with partial derivatives evaluated at $x_n$."
   ]
  },
  {
   "cell_type": "code",
   "execution_count": null,
   "id": "b1066cdb-97b4-4cc8-b79a-b1f6f27812f9",
   "metadata": {},
   "outputs": [],
   "source": [
    "%matplotlib inline\n",
    "\n",
    "import matplotlib.pyplot as plt\n",
    "import numpy as np\n",
    "\n",
    "\n",
    "def J(x, y):\n",
    "    return -np.exp(-(x - 1) ** 2 - (y - 2) ** 2 / 8)\n",
    "\n",
    "\n",
    "def Jp(x, y):\n",
    "    return J(x, y) * np.array([-2 * (x - 1), -(y - 2) / 4], dtype=float)\n",
    "\n",
    "\n",
    "def Jpp(x, y):\n",
    "    return J(x, y) * np.array([\n",
    "        [4 * (x - 1) ** 2 - 2, (x - 1) * (y - 2) / 2],\n",
    "        [(x - 1) * (y - 2) / 2, (y - 2) ** 2 / 16 - 1 / 4]], dtype=float)\n",
    "\n",
    "\n",
    "x = np.linspace(-4, 4, 201)\n",
    "y = np.linspace(-4, 4, 201)\n",
    "X, Y = np.meshgrid(x, y, indexing=\"ij\")\n",
    "\n",
    "fig, ax = plt.subplots()\n",
    "p = ax.pcolormesh(X, Y, J(X, Y), cmap=\"plasma\")\n",
    "ax.plot([1], [2], \"wx\", markersize=12)\n",
    "ax.set_xlim(x[0], x[-1])\n",
    "ax.set_ylim(y[0], y[-1])\n",
    "ax.set_aspect(1)\n",
    "fig.colorbar(p)"
   ]
  },
  {
   "cell_type": "code",
   "execution_count": null,
   "id": "f9905fb1-e43e-4bc6-b5d8-67f9dddf5a78",
   "metadata": {},
   "outputs": [],
   "source": [
    "from itertools import count\n",
    "\n",
    "# x_n = np.zeros(2, dtype=float)\n",
    "x_n = np.array([0.8, 0.8], dtype=float)\n",
    "for it in count():\n",
    "    F_n = Jp(*x_n)\n",
    "    print(f\"{it=} {abs(F_n).max()=} \"\n",
    "          f\"{abs(x_n - np.array([1, 2], dtype=float)).max()=}\")\n",
    "    if abs(F_n).max() < 1.0e-12:\n",
    "        break\n",
    "    J_n = Jpp(*x_n)\n",
    "    x_n -= np.linalg.solve(J_n, F_n)\n",
    "\n",
    "print(f\"{x_n=}\")"
   ]
  }
 ],
 "metadata": {
  "kernelspec": {
   "display_name": "Python 3 (ipykernel)",
   "language": "python",
   "name": "python3"
  },
  "language_info": {
   "codemirror_mode": {
    "name": "ipython",
    "version": 3
   },
   "file_extension": ".py",
   "mimetype": "text/x-python",
   "name": "python",
   "nbconvert_exporter": "python",
   "pygments_lexer": "ipython3",
   "version": "3.12.3"
  }
 },
 "nbformat": 4,
 "nbformat_minor": 5
}
