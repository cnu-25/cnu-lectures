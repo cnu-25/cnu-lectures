{
 "cells": [
  {
   "cell_type": "markdown",
   "id": "26b37c3c-7488-405d-a1d1-b995f725a48b",
   "metadata": {},
   "source": [
    "# Week 9 - Root finding"
   ]
  },
  {
   "cell_type": "markdown",
   "id": "727bac1c-978b-481f-9599-de08c0b78889",
   "metadata": {},
   "source": [
    "Problem: to find a *root* of a some function $F : \\mathbb{R} \\rightarrow \\mathbb{R}$. i.e. to find some $x_*$ such that\n",
    "\n",
    "$$F(x_*) = 0.$$"
   ]
  },
  {
   "cell_type": "code",
   "execution_count": null,
   "id": "1ee11bea-ba5f-4bc0-b975-f38e929c801b",
   "metadata": {},
   "outputs": [],
   "source": [
    "%matplotlib inline\n",
    "\n",
    "import matplotlib.pyplot as plt\n",
    "import numpy as np\n",
    "\n",
    "\n",
    "def F(x):\n",
    "    return x * np.sin(x) - 0.5 * x\n",
    "\n",
    "\n",
    "x_plot = np.linspace(-np.pi, np.pi, 1000)\n",
    "fig, ax = plt.subplots(1)\n",
    "ax.plot(x_plot, F(x_plot), \"k-\")\n",
    "ax.axhline(0, color=\"#888888\")\n",
    "ax.axvline(0, color=\"#888888\")\n",
    "ax.set_xlim(x_plot[0], x_plot[-1])\n",
    "ax.set_xlabel(\"$x$\", fontsize=\"x-large\")\n",
    "ax.set_ylabel(\"$F(x)$\", fontsize=\"x-large\")"
   ]
  },
  {
   "cell_type": "markdown",
   "id": "fc0ee17a-6392-485a-81ee-7c8e6a0723b7",
   "metadata": {},
   "source": [
    "## Bisection\n",
    "\n",
    "If\n",
    "\n",
    "- We can choose $a$ and $b$ such that $F(a) F(b) \\le 0$\n",
    "- $F$ is continuous on $[a, b]$\n",
    "\n",
    "then we must have at least one root somewhere in $[a, b]$.\n",
    "\n",
    "General idea:\n",
    "\n",
    "1. Assume we have some appropriate $a$, $b$\n",
    "2. Let $c$ be the mid-point between them, $c \\gets (a + b)/2$\n",
    "3. 'Zoom in' onto one side, either $b \\gets c$ or $a \\gets c$, so that we keep $F(a) F(b) \\le 0$\n",
    "4. Iterate until some *convergence criteria* are satisfied"
   ]
  },
  {
   "cell_type": "code",
   "execution_count": null,
   "id": "25fd848c-3473-44ec-a37a-5205ef8015d6",
   "metadata": {},
   "outputs": [],
   "source": [
    "a, b = 2, 3"
   ]
  },
  {
   "cell_type": "code",
   "execution_count": null,
   "id": "8e061a87-b071-4841-8a99-99497960c0e8",
   "metadata": {},
   "outputs": [],
   "source": [
    "zoom = True\n",
    "\n",
    "if F(a) * F(b) > 0:\n",
    "    raise ValueError(\"Invalid (a, b)\")\n",
    "c = (a + b) / 2\n",
    "\n",
    "if zoom:\n",
    "    x_plot = np.linspace(a - 0.1 * (b - a), b + 0.1 * (b - a), 1000)\n",
    "else:\n",
    "    x_plot = np.linspace(-np.pi, np.pi, 1000)\n",
    "fig, ax = plt.subplots(1)\n",
    "ax.plot(x_plot, F(x_plot), \"k-\")\n",
    "ax.axhline(0, color=\"#888888\")\n",
    "ax.axvline(0, color=\"#888888\")\n",
    "ax.axvline(a, color=\"r\", linestyle=\"-\")\n",
    "ax.axvline(b, color=\"r\", linestyle=\"-\")\n",
    "ax.axvline(c, color=\"r\", linestyle=\":\")\n",
    "ax.set_xlim(x_plot[0], x_plot[-1])\n",
    "ax.set_xlabel(\"$x$\", fontsize=\"x-large\")\n",
    "ax.set_ylabel(\"$F(x)$\", fontsize=\"x-large\")\n",
    "\n",
    "if F(a) * F(c) <= 0:\n",
    "    print(\"Chose the left side\")\n",
    "    b = c\n",
    "else:\n",
    "    print(\"Chose the right side\")\n",
    "    a = c"
   ]
  },
  {
   "cell_type": "code",
   "execution_count": null,
   "id": "9ad9d4a7-0acb-4c9e-9654-79fe0331fffe",
   "metadata": {},
   "outputs": [],
   "source": [
    "from itertools import count\n",
    "\n",
    "\n",
    "def bisection(F, a, b, *, tol=1e-10):\n",
    "    for it in count(start=1):\n",
    "        if F(a) * F(b) > 0:\n",
    "            raise ValueError(\"Invalid (a, b)\")\n",
    "        c = (a + b) / 2\n",
    "        # print(f\"{it=:4d} {abs(b - a)=:6e} {abs(F(c))=:.6e}\")\n",
    "        if abs(b - a) < tol:\n",
    "            return c\n",
    "        if F(a) * F(c) <= 0:\n",
    "            b = c\n",
    "        else:\n",
    "            a = c\n",
    "\n",
    "\n",
    "print(f\"{bisection(F, -0.1, 0.1)=}\")\n",
    "print(f\"{bisection(F, 0.1, 2)=}\")\n",
    "print(f\"{bisection(F, 2, 3)=}\")"
   ]
  },
  {
   "cell_type": "markdown",
   "id": "3ad8a9c5-92a2-4910-b9c6-5ad5f9906e0b",
   "metadata": {},
   "source": [
    "## Regula falsi\n",
    "\n",
    "Regula falsi (or the 'false position method') is very similar to bisection, but instead chooses $c$ by linear interpolation. For $F(a) F(b) < 0$ we let\n",
    "\n",
    "$$p(x) = \\alpha x + \\beta,$$\n",
    "\n",
    "with\n",
    "\n",
    "$$p(a) = \\alpha a + \\beta = F(a),$$\n",
    "$$p(b) = \\alpha b + \\beta = F(b).$$\n",
    "\n",
    "Defining $c$ such that $p(c) = 0$ we find\n",
    "\n",
    "$$c = \\frac{a F(b) - b F(a)}{F(b) - F(a)},$$\n",
    "\n",
    "noting that we never divide by zero since $F(a) F(b) < 0$, and so $F(a)$ and $F(b)$ are non-zero with differing signs."
   ]
  },
  {
   "cell_type": "markdown",
   "id": "2b519fe7-d465-4d57-a71d-b4dedc6a1741",
   "metadata": {},
   "source": [
    "## Fixed-point iteration\n",
    "\n",
    "Fixed-point iteration, when used for root finding, is a broad family of methods based on the idea of choosing some *iteration function* $G(x)$, some *initial guess* $x_0$, and then iterating so that\n",
    "\n",
    "$$x_{n + 1} = G(x_n) \\qquad \\text{for} ~ n \\ge 0.$$\n",
    "\n",
    "$G$ is defined so that if we are at a *fixed-point* $x_*$ of $G$, i.e. if we have\n",
    "\n",
    "$$x_* = G(x_*),$$\n",
    "\n",
    "then we have found a root of $F$\n",
    "\n",
    "$$F(x_*) = 0.$$\n",
    "\n",
    "For fixed-point iteration to converge to a fixed-point $x_*$, it is sufficient for there to be some neighbourhood $[a, b]$ with $b > a$ such that\n",
    "\n",
    "- $x_* \\in (a, b)$\n",
    "- $G$ is continuous on $[a, b]$\n",
    "- $G$ is differentiable on $(a, b)$\n",
    "- $|G'(x)| \\le K$ for all $x$ in $(a, b)$ for some constant $K$ with $0 < K < 1$\n",
    "- $x_n$ is sufficiently close to $x_*$ for some $n$ (e.g. $n = 0$)\n",
    "\n",
    "Simple way to construct $G$: re-arrange, e.g.\n",
    "\n",
    "$$F(x_*) = x_* \\sin x_* - \\frac{1}{2} x_* = 0$$\n",
    "\n",
    "can be re-arranged to\n",
    "\n",
    "$$x_* = 2 x_* \\sin x_*,$$\n",
    "\n",
    "suggesting the fixed-point iteration\n",
    "\n",
    "$$x_{n + 1} = 2 x_n \\sin x_n.$$"
   ]
  },
  {
   "cell_type": "code",
   "execution_count": null,
   "id": "9763b581-f786-489e-b3d2-bf422a395d58",
   "metadata": {},
   "outputs": [],
   "source": [
    "eps = 1e-10\n",
    "max_it = 50\n",
    "x = 3\n",
    "for it in range(1, max_it + 1):\n",
    "    x = 2 * x * np.sin(x)\n",
    "    print(f\"{it=:4d} {x=:6e} {abs(F(x))=:.6e}\")\n",
    "    if abs(F(x)) < eps:\n",
    "        break"
   ]
  },
  {
   "cell_type": "markdown",
   "id": "4fa38ee7-2d6d-46c3-97b4-ce78e7e60d3d",
   "metadata": {},
   "source": [
    "Another re-arrangement suggests\n",
    "\n",
    "$$x_{n + 1} = \\frac{x_n}{2 \\sin x_n}.$$"
   ]
  },
  {
   "cell_type": "code",
   "execution_count": null,
   "id": "7e4eed94-a625-4c13-a71f-937f95eb06b3",
   "metadata": {},
   "outputs": [],
   "source": [
    "eps = 1e-10\n",
    "max_it = 50\n",
    "x = 3\n",
    "for it in range(1, max_it + 1):\n",
    "    x = x / (2 * np.sin(x))\n",
    "    print(f\"{it=:4d} {x=:6e} {abs(F(x))=:.6e}\")\n",
    "    if abs(F(x)) < eps:\n",
    "        break"
   ]
  },
  {
   "cell_type": "markdown",
   "id": "33f789c5-80d3-40b3-ab2b-d46466e488dc",
   "metadata": {},
   "source": [
    "and a third suggests\n",
    "\n",
    "$$x_{n + 1} = \\frac{2 x_n^2 \\cos x_n}{2 \\sin x_n + 2 x_n \\cos x_n - 1}.$$"
   ]
  },
  {
   "cell_type": "code",
   "execution_count": null,
   "id": "1e438da0-a744-4a83-a6a1-a1562d60c742",
   "metadata": {},
   "outputs": [],
   "source": [
    "eps = 1e-10\n",
    "max_it = 50\n",
    "x = 3\n",
    "for it in range(1, max_it + 1):\n",
    "    x = 2 * x ** 2 * np.cos(x) / (2 * np.sin(x) + 2 * x * np.cos(x) - 1)\n",
    "    print(f\"{it=:4d} {x=:6e} {abs(F(x))=:.6e}\")\n",
    "    if abs(F(x)) < eps:\n",
    "        break"
   ]
  },
  {
   "cell_type": "markdown",
   "id": "a706c44e-f399-4d4a-b255-ef0898a72a81",
   "metadata": {},
   "source": [
    "Question: how should we choose the iteration function?"
   ]
  }
 ],
 "metadata": {
  "kernelspec": {
   "display_name": "Python 3 (ipykernel)",
   "language": "python",
   "name": "python3"
  },
  "language_info": {
   "codemirror_mode": {
    "name": "ipython",
    "version": 3
   },
   "file_extension": ".py",
   "mimetype": "text/x-python",
   "name": "python",
   "nbconvert_exporter": "python",
   "pygments_lexer": "ipython3",
   "version": "3.12.3"
  }
 },
 "nbformat": 4,
 "nbformat_minor": 5
}
