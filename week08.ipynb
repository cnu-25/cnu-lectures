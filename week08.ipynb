{
 "cells": [
  {
   "cell_type": "markdown",
   "id": "26b37c3c-7488-405d-a1d1-b995f725a48b",
   "metadata": {},
   "source": [
    "# Week 8 - Numerical differentation"
   ]
  },
  {
   "cell_type": "markdown",
   "id": "727bac1c-978b-481f-9599-de08c0b78889",
   "metadata": {},
   "source": [
    "## Forward differencing\n",
    "\n",
    "For a sufficiently smooth function $F(x)$ we can approximate the derivative via\n",
    "\n",
    "$$F'(x) \\approx \\frac{1}{h} \\left[ F(x + h) - F(x) \\right].$$\n",
    "\n",
    "How accurate is this approximation? Using Taylor's theorem we have\n",
    "\n",
    "$$F(x + h) = F(x) + h F'(x) + \\frac{1}{2} h F''(x) + O(h^3),$$\n",
    "\n",
    "and after substituting and simplifying we have\n",
    "\n",
    "$$\\frac{1}{h} \\left[ F(x + h) - F(x) \\right] = F'(x) + \\frac{1}{2} h F''(x) + O(h^2),$$\n",
    "\n",
    "and so we say the approximation is *first order accurate*.\n",
    "\n",
    "## Centred differencing\n",
    "\n",
    "An alternative approximation is\n",
    "\n",
    "$$F'(x) \\approx \\frac{1}{2 h} \\left[ F(x + h) - F(x - h) \\right].$$\n",
    "\n",
    "Applying Taylor's theorem again we arrive at\n",
    "\n",
    "$$\\frac{1}{2 h} \\left[ F(x + h) - F(x - h) \\right] = F'(x) + \\frac{1}{6} h^2 F'''(x) + O(h^3),$$\n",
    "\n",
    "and so we say the approximation is *second order accurate*.\n",
    "\n",
    "## Generalization\n",
    "\n",
    "A finite difference approximation of a first derivative takes the form\n",
    "\n",
    "$$F'(x) \\approx D(x) = \\frac{1}{h} \\sum_{i = 0}^{N - 1} \\alpha_i F( x_i ).$$\n",
    "\n",
    "If we have\n",
    "\n",
    "$$D(x) = F'(x) + O(h^p)$$\n",
    "\n",
    "for some $p > 0$ then we say the scheme is *$p$th order accurate*.\n",
    "\n",
    "In general for any useful approximation we must have (why?)\n",
    "\n",
    "$$\\sum_{i = 0}^{N - 1} \\alpha_i = 0.$$\n",
    "\n",
    "## Higher order derivatives\n",
    "\n",
    "We can use a similar approach to approximate higher order derivatives, e.g. the centred second order approximation to a second derivative\n",
    "\n",
    "$$F''(x) \\approx \\frac{1}{h^2} \\left[ F(x - h) - 2 F(x) + F(x + h) \\right].$$"
   ]
  },
  {
   "cell_type": "code",
   "execution_count": null,
   "id": "7f0951a4-abfb-4d2d-9731-205763317fa0",
   "metadata": {},
   "outputs": [],
   "source": [
    "%matplotlib inline\n",
    "\n",
    "import matplotlib.pyplot as plt\n",
    "import numpy as np\n",
    "\n",
    "\n",
    "def F(x):\n",
    "    return np.exp(x) * np.cos(5 * x)\n",
    "\n",
    "\n",
    "def Fp(x):\n",
    "    return F(x) - 5 * np.exp(x) * np.sin(5 * x)\n",
    "\n",
    "\n",
    "x_plot = np.linspace(-np.pi, np.pi, 1000)\n",
    "fig, ax = plt.subplots(1)\n",
    "ax.plot(x_plot, F(x_plot), \"k-\")\n",
    "ax.axhline(0, color=\"#888888\")\n",
    "ax.axvline(0, color=\"#888888\")\n",
    "ax.set_xlim(x_plot[0], x_plot[-1])\n",
    "ax.set_xlabel(\"$x$\", fontsize=\"x-large\")\n",
    "ax.set_ylabel(\"$F(x)$\", fontsize=\"x-large\")"
   ]
  },
  {
   "cell_type": "code",
   "execution_count": null,
   "id": "0de6853f-7508-4b58-8029-d6a328f913f8",
   "metadata": {},
   "outputs": [],
   "source": [
    "def D(F, x, h):\n",
    "    return (1 / h) * (F(x + h) - F(x))\n",
    "\n",
    "\n",
    "x_0 = 2\n",
    "h_vals = np.logspace(-15, 0, 50)\n",
    "error_magnitudes = []\n",
    "for h in h_vals:\n",
    "    Fp_exact = Fp(x_0)\n",
    "    Fp_approx = D(F, x_0, h)\n",
    "    Fp_error_magnitude = abs(Fp_exact - Fp_approx)\n",
    "    error_magnitudes.append(Fp_error_magnitude)\n",
    "\n",
    "fig, ax = plt.subplots()\n",
    "ax.loglog(h_vals, error_magnitudes, \"kx\")\n",
    "ax.axhline(0, color=\"#888888\")\n",
    "ax.axvline(0, color=\"#888888\")\n",
    "ax.set_xlim(x_plot[0], x_plot[-1])\n",
    "ax.set_xlabel(\"$h$\", fontsize=\"x-large\")\n",
    "ax.set_ylabel(\"Error magnitude\", fontsize=\"x-large\")"
   ]
  }
 ],
 "metadata": {
  "kernelspec": {
   "display_name": "Python 3 (ipykernel)",
   "language": "python",
   "name": "python3"
  },
  "language_info": {
   "codemirror_mode": {
    "name": "ipython",
    "version": 3
   },
   "file_extension": ".py",
   "mimetype": "text/x-python",
   "name": "python",
   "nbconvert_exporter": "python",
   "pygments_lexer": "ipython3",
   "version": "3.12.3"
  }
 },
 "nbformat": 4,
 "nbformat_minor": 5
}
