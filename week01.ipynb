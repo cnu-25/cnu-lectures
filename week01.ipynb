{
 "cells": [
  {
   "cell_type": "markdown",
   "id": "1d5b001f-4c5e-4222-ac34-2504beae2ea3",
   "metadata": {
    "editable": true,
    "slideshow": {
     "slide_type": "slide"
    },
    "tags": []
   },
   "source": [
    "# Computing and Numerics\n",
    "\n",
    "James R. Maddison"
   ]
  },
  {
   "cell_type": "markdown",
   "id": "4bb16484-640e-4000-aa98-c8e362369020",
   "metadata": {
    "editable": true,
    "slideshow": {
     "slide_type": "slide"
    },
    "tags": []
   },
   "source": [
    "## Welcome!"
   ]
  },
  {
   "cell_type": "markdown",
   "id": "49e05371-e18c-4b77-8c19-fc6fb10a6ef9",
   "metadata": {
    "editable": true,
    "slideshow": {
     "slide_type": "fragment"
    },
    "tags": []
   },
   "source": [
    "Purpose of this course:"
   ]
  },
  {
   "cell_type": "markdown",
   "id": "ab7bb19b-8790-4f47-a6e3-43f9fd1162c1",
   "metadata": {
    "editable": true,
    "slideshow": {
     "slide_type": "fragment"
    },
    "tags": []
   },
   "source": [
    "- To introduce *computational mathematics*"
   ]
  },
  {
   "cell_type": "markdown",
   "id": "19bca4d8-2458-4764-b62c-612e45aa1f9b",
   "metadata": {
    "editable": true,
    "slideshow": {
     "slide_type": "fragment"
    },
    "tags": []
   },
   "source": [
    "We'll be combining techniques from e.g. computer programming, linear algebra, analysis, and using these to solve mathematical problems"
   ]
  },
  {
   "cell_type": "markdown",
   "id": "7d932391-4c4f-4992-b29b-a8a43c1bd516",
   "metadata": {
    "editable": true,
    "slideshow": {
     "slide_type": "fragment"
    },
    "tags": []
   },
   "source": [
    "No previous programming experience is required!"
   ]
  },
  {
   "cell_type": "markdown",
   "id": "030f418b-53b3-42d2-9635-032215bda721",
   "metadata": {
    "editable": true,
    "slideshow": {
     "slide_type": "slide"
    },
    "tags": []
   },
   "source": [
    "## Computational mathematics\n",
    "\n",
    "Example: Solving a linear system\n",
    "\n",
    "Start from\n",
    "\\begin{equation*}\n",
    "\\left( \\begin{array}{cccc}  4 & 1 & -1 & 0 \\\\\n",
    "                            1 & 8 &  0 & 0 \\\\\n",
    "                           -1 & 0 &  2 & 0 \\\\\n",
    "                            0 & 0 &  0 & 6\n",
    "           \\end{array} \\right) x = \\left( \\begin{array}{c} 4 \\\\ -1 \\\\ 2 \\\\ 0 \\end{array} \\right)\n",
    "\\end{equation*}\n",
    "\n",
    "How might we find x?"
   ]
  },
  {
   "cell_type": "markdown",
   "id": "354f87df-7eca-4c15-8ccb-c1769b8d45e7",
   "metadata": {
    "editable": true,
    "slideshow": {
     "slide_type": "slide"
    },
    "tags": []
   },
   "source": [
    "## Computational mathematics\n",
    "\n",
    "Example: Solving a quadratic equation\n",
    "\n",
    "\\begin{equation*}\n",
    "a x^2 + b x + c = 0\n",
    "\\end{equation*}\n",
    "\n",
    "How might we find $x$ which satisfy this equation?"
   ]
  },
  {
   "cell_type": "markdown",
   "id": "7256f3ec-6adc-4636-935e-dcd9e67b5774",
   "metadata": {
    "editable": true,
    "slideshow": {
     "slide_type": "fragment"
    },
    "tags": []
   },
   "source": [
    "Obvious solution: the quadratic formula\n",
    "\\begin{equation*}\n",
    "x = \\frac{1}{2 a} \\left( -b \\pm \\sqrt{b^2 - 4 a c} \\right)\n",
    "\\end{equation*}"
   ]
  },
  {
   "cell_type": "markdown",
   "id": "52895c19-f790-4714-a040-12edbe9e1246",
   "metadata": {
    "editable": true,
    "slideshow": {
     "slide_type": "fragment"
    },
    "tags": []
   },
   "source": [
    "but what happens if $a$ has small magnitude?"
   ]
  },
  {
   "cell_type": "markdown",
   "id": "0579cc30-a3a5-48d5-bc80-123dad0877b0",
   "metadata": {
    "editable": true,
    "slideshow": {
     "slide_type": "slide"
    },
    "tags": []
   },
   "source": [
    "## Computational mathematics\n",
    "\n",
    "Example: Basic arithmetic properties"
   ]
  },
  {
   "cell_type": "code",
   "execution_count": null,
   "id": "fdcfdeb2-dcd4-4ca9-ab64-a83c25da5817",
   "metadata": {
    "editable": true,
    "slideshow": {
     "slide_type": ""
    },
    "tags": []
   },
   "outputs": [],
   "source": [
    "a = -1\n",
    "b = 1\n",
    "c = 1.0e-32\n",
    "print(a + (b + c) == (a + b) + c)"
   ]
  },
  {
   "cell_type": "markdown",
   "id": "1f8bf1fa-1082-4c78-8d21-1738082e2bfc",
   "metadata": {
    "editable": true,
    "slideshow": {
     "slide_type": "fragment"
    },
    "tags": []
   },
   "source": [
    "So additional is not associative? What is going on?"
   ]
  },
  {
   "cell_type": "markdown",
   "id": "2e2593de-af46-4225-aab0-24e80b16c323",
   "metadata": {
    "editable": true,
    "slideshow": {
     "slide_type": "fragment"
    },
    "tags": []
   },
   "source": [
    "Do very small rounding errors like this actually matter? (answer: sometimes they *really* matter)"
   ]
  },
  {
   "cell_type": "markdown",
   "id": "213bca79-2aad-483d-9d6e-cc6f065204c8",
   "metadata": {
    "editable": true,
    "slideshow": {
     "slide_type": "slide"
    },
    "tags": []
   },
   "source": [
    "## Computational mathematics\n",
    "\n",
    "Computational mathematics is more than just a translation of equations into code.\n",
    "\n",
    "Need to think about\n",
    "\n",
    "  - *Efficiency*. e.g. in terms of speed, storage.\n",
    "  - *Robustness*. Does our code always give accurate answers?\n",
    "\n",
    "*as well as* applying good programming practices to ensure correctness, maintainability, ..."
   ]
  },
  {
   "cell_type": "markdown",
   "id": "68348603-a9d8-422a-b802-f432b333d379",
   "metadata": {
    "editable": true,
    "slideshow": {
     "slide_type": "slide"
    },
    "tags": []
   },
   "source": [
    "## Learning outcomes\n",
    "\n",
    "1. Write short programs in a professional way using Python, employing suitable tools and writing well-formatted code.\n",
    "2. Explain the purpose and logic of some basic numerical algorithms;\n",
    "3. Use a suitable programming language to investigate mathematical phenomena, to make conjectures, find counterexamples, etc."
   ]
  },
  {
   "cell_type": "markdown",
   "id": "e248b388-767e-499c-ac0b-c7c87bf7fcbc",
   "metadata": {
    "editable": true,
    "slideshow": {
     "slide_type": "slide"
    },
    "tags": []
   },
   "source": [
    "## Structure\n",
    "\n",
    "  - Weeks 1-3: Introduction to Python, including variables, flow control, functions\n",
    "  - Weeks 3-4: Linear algebra, including NumPy arrays, array operations, linear systems\n",
    "  - Weeks 5-7: Numerical calculus, methods for approximating derivatives and integrals\n",
    "  - Weeks 8-10: Root finding, for solving certain non-linear problems"
   ]
  },
  {
   "cell_type": "markdown",
   "id": "66262152-87fb-4752-984d-91ba75e08287",
   "metadata": {
    "editable": true,
    "slideshow": {
     "slide_type": "slide"
    },
    "tags": []
   },
   "source": [
    "## Assessment\n",
    "\n",
    "Three components:\n",
    "\n",
    "  - Code review: best 3 of 4 for 15%\n",
    "    - First complete a quiz\n",
    "    - Then your code is reviewed by your peers ...\n",
    "    - ... and you review code of your peers\n",
    "  - Assignment A1, 35%\n",
    "    - First individual assignment\n",
    "  - Assignment A2, 50%, must pass to pass the course\n",
    "    - Second individual assignment\n",
    "\n",
    "**Important note**: To pass the course you must pass the course overall *and* pass assignment A2"
   ]
  }
 ],
 "metadata": {
  "kernelspec": {
   "display_name": "Python 3 (ipykernel)",
   "language": "python",
   "name": "python3"
  },
  "language_info": {
   "codemirror_mode": {
    "name": "ipython",
    "version": 3
   },
   "file_extension": ".py",
   "mimetype": "text/x-python",
   "name": "python",
   "nbconvert_exporter": "python",
   "pygments_lexer": "ipython3",
   "version": "3.10.16"
  }
 },
 "nbformat": 4,
 "nbformat_minor": 5
}
